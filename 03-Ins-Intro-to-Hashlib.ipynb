{
 "cells": [
  {
   "cell_type": "code",
   "execution_count": null,
   "id": "bf82f8b4-3bc2-4408-9dbf-87aa55b82733",
   "metadata": {},
   "outputs": [],
   "source": [
    "# Imports\n",
    "import hashlib\n",
    "\n",
    "# Create an instance of the sha256 hashing funcion\n",
    "sha = hashlib.sha256()\n",
    "\n",
    "# Create the data input to be hashed\n",
    "my_data = \"Lorem ipsum dolor sit amet, consectetur adipiscing elit. Pellentesque a nisi et nunc sollicitudin laoreet in sed neque. Proin convallis varius odio, id euismod justo tristique at. Cras at ultricies nisi, sed vulputate ante. Praesent faucibus odio in tortor tincidunt tincidunt. Vivamus interdum, tortor ac semper laoreet, nisl nibh tincidunt ante, vitae iaculis arcu sapien quis turpis. Nunc in ullamcorper enim. Sed in est egestas, pulvinar orci in, laoreet nisl.\"\n",
    "\n",
    "# Encode the data using the encode function\n",
    "encoded_data = my_data.encode()\n",
    "\n",
    "# Update the encoded data\n",
    "sha.update(encoded_data)\n",
    "\n",
    "# Print the hash code resulting from the hexdigest function\n",
    "print(sha.hexdigest())"
   ]
  }
 ],
 "metadata": {
  "kernelspec": {
   "display_name": "Python 3",
   "language": "python",
   "name": "python3"
  },
  "language_info": {
   "codemirror_mode": {
    "name": "ipython",
    "version": 3
   },
   "file_extension": ".py",
   "mimetype": "text/x-python",
   "name": "python",
   "nbconvert_exporter": "python",
   "pygments_lexer": "ipython3",
   "version": "3.8.8"
  }
 },
 "nbformat": 4,
 "nbformat_minor": 5
}
